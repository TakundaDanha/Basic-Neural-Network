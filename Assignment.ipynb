{
 "cells": [
  {
   "cell_type": "code",
   "execution_count": 4,
   "id": "f0b8d7e1-5873-4ba2-88cd-4e57f70f0468",
   "metadata": {},
   "outputs": [
    {
     "name": "stdin",
     "output_type": "stream",
     "text": [
      " 3\n",
      " 1\n",
      " -2\n",
      " -1\n",
      " -4\n",
      " 0\n",
      " 1\n",
      " 0\n"
     ]
    },
    {
     "name": "stdout",
     "output_type": "stream",
     "text": [
      "0.8142\n",
      "0.8043\n"
     ]
    }
   ],
   "source": [
    "import numpy as np\n",
    "\n",
    "class NeuralNetwork:\n",
    "    def __init__(self, input_size=5, hidden_size=10, output_size=3, learning_rate=0.1):\n",
    "        self.input_size = input_size\n",
    "        self.hidden_size = hidden_size\n",
    "        self.output_size = output_size\n",
    "        self.learning_rate = learning_rate\n",
    "        \n",
    "        # Initialize all weights and biases to 1\n",
    "        self.W1 = np.ones((self.input_size, self.hidden_size))\n",
    "        self.b1 = np.ones((1, self.hidden_size))\n",
    "        self.W2 = np.ones((self.hidden_size, self.output_size))\n",
    "        self.b2 = np.ones((1, self.output_size))\n",
    "\n",
    "    def sigmoid(self, x):\n",
    "        return 1 / (1 + np.exp(-x))\n",
    "\n",
    "    def sigmoid_derivative(self, x):\n",
    "        return x * (1 - x)\n",
    "\n",
    "    def feedforward(self, X):\n",
    "        self.hidden_input = np.dot(X, self.W1) + self.b1\n",
    "        self.hidden_output = self.sigmoid(self.hidden_input)\n",
    "        self.output_input = np.dot(self.hidden_output, self.W2) + self.b2\n",
    "        self.output = self.sigmoid(self.output_input)\n",
    "        return self.output\n",
    "\n",
    "    def sum_of_squares_loss(self, y, t):\n",
    "        return 0.5 * np.sum((y - t) ** 2)\n",
    "\n",
    "    def backpropagate(self, X, y):\n",
    "        output_error = self.output - y\n",
    "        output_delta = output_error * self.sigmoid_derivative(self.output)\n",
    "        hidden_error = output_delta.dot(self.W2.T)\n",
    "        hidden_delta = hidden_error * self.sigmoid_derivative(self.hidden_output)\n",
    "        \n",
    "        self.W2 -= self.learning_rate * np.dot(self.hidden_output.T, output_delta)\n",
    "        self.b2 -= self.learning_rate * np.sum(output_delta, axis=0, keepdims=True)\n",
    "        self.W1 -= self.learning_rate * np.dot(X.T, hidden_delta)\n",
    "        self.b1 -= self.learning_rate * np.sum(hidden_delta, axis=0, keepdims=True)\n",
    "\n",
    "# Read input from user in Jupyter Notebook\n",
    "inputs = [float(input()) for _ in range(8)]\n",
    "\n",
    "# Ensure exactly 8 values are entered\n",
    "if len(inputs) != 8:\n",
    "    raise ValueError(\"Expected exactly 8 values (5 inputs, 3 targets).\")\n",
    "\n",
    "# Convert to float\n",
    "#inputs = [Float(input()) for _ in range(8)]\n",
    "X_input = np.array(inputs[:5]).reshape(1, -1)  # First 5 values are inputs\n",
    "y_target = np.array(inputs[5:]).reshape(1, -1)  # Last 3 values are targets\n",
    "\n",
    "# Initialize and process neural network\n",
    "nn = NeuralNetwork()\n",
    "output_before = nn.feedforward(X_input)\n",
    "loss_before = nn.sum_of_squares_loss(output_before, y_target)\n",
    "\n",
    "# Perform one iteration of backpropagation\n",
    "nn.backpropagate(X_input, y_target)\n",
    "output_after = nn.feedforward(X_input)\n",
    "loss_after = nn.sum_of_squares_loss(output_after, y_target)\n",
    "\n",
    "# Print losses rounded to 4 decimal places\n",
    "print(f\"{loss_before:.4f}\")\n",
    "print(f\"{loss_after:.4f}\")\n"
   ]
  },
  {
   "cell_type": "code",
   "execution_count": null,
   "id": "4b82c209-190e-4ba7-8e37-08e2d23c085e",
   "metadata": {},
   "outputs": [],
   "source": []
  }
 ],
 "metadata": {
  "kernelspec": {
   "display_name": "Python 3 (ipykernel)",
   "language": "python",
   "name": "python3"
  },
  "language_info": {
   "codemirror_mode": {
    "name": "ipython",
    "version": 3
   },
   "file_extension": ".py",
   "mimetype": "text/x-python",
   "name": "python",
   "nbconvert_exporter": "python",
   "pygments_lexer": "ipython3",
   "version": "3.12.7"
  }
 },
 "nbformat": 4,
 "nbformat_minor": 5
}
